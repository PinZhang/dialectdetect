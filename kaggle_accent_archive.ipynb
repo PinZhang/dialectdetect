{
 "cells": [
  {
   "cell_type": "markdown",
   "metadata": {},
   "source": [
    "## Download the archive\n",
    "\n",
    "Download the archive files from https://www.kaggle.com/rtatman/speech-accent-archives, and extract it into the working directory.\n",
    "\n",
    "Then convert all the mp3 files into wav by using this script: https://raw.githubusercontent.com/evonneng/Speech-Accent-Detector/master/convert_to_wav.sh\n",
    "\n",
    "Most of the following codes are borrowed from: https://github.com/evonneng/Speech-Accent-Detector/blob/master/Speech%20Accent%20Detector.ipynb"
   ]
  },
  {
   "cell_type": "code",
   "execution_count": 11,
   "metadata": {},
   "outputs": [],
   "source": [
    "import sys\n",
    "import os\n",
    "import numpy as np\n",
    "import pandas as pd\n",
    "\n",
    "from sklearn import tree\n",
    "from sklearn.linear_model import LogisticRegression\n",
    "from sklearn.model_selection import cross_val_score\n",
    "from sklearn.ensemble import RandomForestClassifier\n",
    "\n",
    "import librosa"
   ]
  },
  {
   "cell_type": "code",
   "execution_count": 2,
   "metadata": {},
   "outputs": [],
   "source": [
    "RATE = 8000\n",
    "N_MFCC = 12\n",
    "\n",
    "NUM_FEATURES = 3000"
   ]
  },
  {
   "cell_type": "code",
   "execution_count": 3,
   "metadata": {},
   "outputs": [],
   "source": [
    "def get_wav(filename):\n",
    "    '''\n",
    "    filename: file name to load\n",
    "    return: numpy array down-sampled wav file\n",
    "    '''\n",
    "    y, sr = librosa.load('{}'.format(filename))\n",
    "    return librosa.core.resample(y=y, orig_sr=sr, target_sr=RATE, scale=True)\n",
    "\n",
    "def to_mfcc(wav):\n",
    "    '''\n",
    "    wav: numpy array down-sampled wav file\n",
    "    return: 2d numpy array of mfcc\n",
    "    '''\n",
    "    return librosa.feature.mfcc(y=wav, sr=RATE, n_mfcc=N_MFCC)\n",
    "\n",
    "def get_mfcc_from_filename(filename):\n",
    "    '''\n",
    "\n",
    "    '''\n",
    "    wav = get_wav(filename)\n",
    "    mfcc = to_mfcc(wav).flatten()\n",
    "\n",
    "    return mfcc[:NUM_FEATURES]\n",
    "\n",
    "def add_dir_to_df(dir_name, X):\n",
    "    '''\n",
    "    dir_name: the directory to add files to dataframe\n",
    "    X: features dataframe to add to\n",
    "    '''\n",
    "\n",
    "    filenames = map(lambda rel_path: dir_name + \"/\" + rel_path, os.listdir(dir_name))\n",
    "    \n",
    "    import multiprocessing\n",
    "    X = pd.DataFrame(columns=list(range(NUM_FEATURES)))\n",
    "    pool = multiprocessing.Pool(processes=multiprocessing.cpu_count())\n",
    "    \n",
    "    # Using multiprocesses\n",
    "    mfccs = pool.map(get_mfcc_from_filename, filenames)\n",
    "    # mfccs = list(map(get_mfcc_from_filename, filenames))\n",
    "\n",
    "    new_rows = pd.DataFrame(mfccs, columns=X.columns)\n",
    "    return pd.concat([X, new_rows])\n",
    "\n",
    "\n",
    "def add_category_to_labels(dir_name, label, y):\n",
    "    '''\n",
    "    dir_name: the directory to add files to dataframe\n",
    "    label: label of new category\n",
    "    y: predictions dataframe to add to\n",
    "    '''\n",
    "    files = os.listdir(dir_name)\n",
    "    num_rows_to_add = len(files)\n",
    "\n",
    "    row_labels = pd.DataFrame(np.ones(num_rows_to_add) * label, columns=y.columns)\n",
    "    return pd.concat([y, row_labels])"
   ]
  },
  {
   "cell_type": "code",
   "execution_count": null,
   "metadata": {},
   "outputs": [],
   "source": [
    "X = pd.DataFrame(columns=list(range(NUM_FEATURES)))\n",
    "y = pd.DataFrame(columns=[\"y\"])\n",
    "\n",
    "dirs = [\"./recordings_wav/english\", \"./recordings_wav/mandarin\"]\n",
    "\n",
    "for label, d in enumerate(dirs):\n",
    "    X = add_dir_to_df(d, X)\n",
    "    y = add_category_to_labels(d, label, y)\n",
    "y = y.values.ravel()"
   ]
  },
  {
   "cell_type": "code",
   "execution_count": 42,
   "metadata": {},
   "outputs": [
    {
     "data": {
      "text/html": [
       "<div>\n",
       "<style scoped>\n",
       "    .dataframe tbody tr th:only-of-type {\n",
       "        vertical-align: middle;\n",
       "    }\n",
       "\n",
       "    .dataframe tbody tr th {\n",
       "        vertical-align: top;\n",
       "    }\n",
       "\n",
       "    .dataframe thead th {\n",
       "        text-align: right;\n",
       "    }\n",
       "</style>\n",
       "<table border=\"1\" class=\"dataframe\">\n",
       "  <thead>\n",
       "    <tr style=\"text-align: right;\">\n",
       "      <th></th>\n",
       "      <th>0</th>\n",
       "      <th>1</th>\n",
       "      <th>2</th>\n",
       "      <th>3</th>\n",
       "      <th>4</th>\n",
       "      <th>5</th>\n",
       "      <th>6</th>\n",
       "      <th>7</th>\n",
       "      <th>8</th>\n",
       "      <th>9</th>\n",
       "      <th>...</th>\n",
       "      <th>2990</th>\n",
       "      <th>2991</th>\n",
       "      <th>2992</th>\n",
       "      <th>2993</th>\n",
       "      <th>2994</th>\n",
       "      <th>2995</th>\n",
       "      <th>2996</th>\n",
       "      <th>2997</th>\n",
       "      <th>2998</th>\n",
       "      <th>2999</th>\n",
       "    </tr>\n",
       "  </thead>\n",
       "  <tbody>\n",
       "    <tr>\n",
       "      <td>0</td>\n",
       "      <td>-61.520138</td>\n",
       "      <td>-45.114658</td>\n",
       "      <td>-67.347679</td>\n",
       "      <td>-64.358963</td>\n",
       "      <td>13.608142</td>\n",
       "      <td>57.482548</td>\n",
       "      <td>32.144146</td>\n",
       "      <td>-25.767134</td>\n",
       "      <td>-47.474106</td>\n",
       "      <td>13.589452</td>\n",
       "      <td>...</td>\n",
       "      <td>-19.425692</td>\n",
       "      <td>-4.964512</td>\n",
       "      <td>0.564896</td>\n",
       "      <td>-10.322146</td>\n",
       "      <td>-8.048172</td>\n",
       "      <td>-15.611216</td>\n",
       "      <td>-13.717669</td>\n",
       "      <td>-8.758387</td>\n",
       "      <td>-18.238054</td>\n",
       "      <td>-21.685688</td>\n",
       "    </tr>\n",
       "    <tr>\n",
       "      <td>1</td>\n",
       "      <td>-319.164764</td>\n",
       "      <td>-313.727051</td>\n",
       "      <td>-315.753265</td>\n",
       "      <td>-337.958008</td>\n",
       "      <td>-352.937073</td>\n",
       "      <td>-319.444733</td>\n",
       "      <td>-271.978241</td>\n",
       "      <td>-282.159180</td>\n",
       "      <td>-225.115707</td>\n",
       "      <td>-154.357269</td>\n",
       "      <td>...</td>\n",
       "      <td>-16.648531</td>\n",
       "      <td>-9.363829</td>\n",
       "      <td>-1.733926</td>\n",
       "      <td>-17.236471</td>\n",
       "      <td>-23.098793</td>\n",
       "      <td>-15.690676</td>\n",
       "      <td>-11.650967</td>\n",
       "      <td>-19.760632</td>\n",
       "      <td>-32.453533</td>\n",
       "      <td>-33.308979</td>\n",
       "    </tr>\n",
       "    <tr>\n",
       "      <td>2</td>\n",
       "      <td>-507.730377</td>\n",
       "      <td>-480.776276</td>\n",
       "      <td>-366.106293</td>\n",
       "      <td>-289.678741</td>\n",
       "      <td>-277.664673</td>\n",
       "      <td>-322.216431</td>\n",
       "      <td>-325.142181</td>\n",
       "      <td>-290.748108</td>\n",
       "      <td>-188.610550</td>\n",
       "      <td>-186.412460</td>\n",
       "      <td>...</td>\n",
       "      <td>1.392520</td>\n",
       "      <td>1.403800</td>\n",
       "      <td>1.397377</td>\n",
       "      <td>2.297293</td>\n",
       "      <td>1.126647</td>\n",
       "      <td>3.847977</td>\n",
       "      <td>7.825229</td>\n",
       "      <td>6.717238</td>\n",
       "      <td>-17.613911</td>\n",
       "      <td>-28.461082</td>\n",
       "    </tr>\n",
       "    <tr>\n",
       "      <td>3</td>\n",
       "      <td>-505.187653</td>\n",
       "      <td>-497.593079</td>\n",
       "      <td>-482.440308</td>\n",
       "      <td>-477.806244</td>\n",
       "      <td>-434.630890</td>\n",
       "      <td>-330.238037</td>\n",
       "      <td>-236.029419</td>\n",
       "      <td>-215.746506</td>\n",
       "      <td>-259.099365</td>\n",
       "      <td>-281.784088</td>\n",
       "      <td>...</td>\n",
       "      <td>-0.079755</td>\n",
       "      <td>-22.837614</td>\n",
       "      <td>-13.261033</td>\n",
       "      <td>-6.944836</td>\n",
       "      <td>-8.002753</td>\n",
       "      <td>-8.259872</td>\n",
       "      <td>-11.999463</td>\n",
       "      <td>-8.388346</td>\n",
       "      <td>-21.328281</td>\n",
       "      <td>-28.987991</td>\n",
       "    </tr>\n",
       "    <tr>\n",
       "      <td>4</td>\n",
       "      <td>-526.473816</td>\n",
       "      <td>-526.473816</td>\n",
       "      <td>-526.473816</td>\n",
       "      <td>-526.473816</td>\n",
       "      <td>-522.832092</td>\n",
       "      <td>-290.251740</td>\n",
       "      <td>-132.622635</td>\n",
       "      <td>-104.316048</td>\n",
       "      <td>-148.268097</td>\n",
       "      <td>-94.123489</td>\n",
       "      <td>...</td>\n",
       "      <td>-11.891620</td>\n",
       "      <td>-36.099201</td>\n",
       "      <td>-25.709633</td>\n",
       "      <td>-28.622822</td>\n",
       "      <td>-34.927490</td>\n",
       "      <td>-43.111950</td>\n",
       "      <td>-42.848175</td>\n",
       "      <td>-14.123367</td>\n",
       "      <td>-27.069042</td>\n",
       "      <td>-25.933346</td>\n",
       "    </tr>\n",
       "  </tbody>\n",
       "</table>\n",
       "<p>5 rows × 3000 columns</p>\n",
       "</div>"
      ],
      "text/plain": [
       "         0           1           2           3           4           5     \\\n",
       "0  -61.520138  -45.114658  -67.347679  -64.358963   13.608142   57.482548   \n",
       "1 -319.164764 -313.727051 -315.753265 -337.958008 -352.937073 -319.444733   \n",
       "2 -507.730377 -480.776276 -366.106293 -289.678741 -277.664673 -322.216431   \n",
       "3 -505.187653 -497.593079 -482.440308 -477.806244 -434.630890 -330.238037   \n",
       "4 -526.473816 -526.473816 -526.473816 -526.473816 -522.832092 -290.251740   \n",
       "\n",
       "         6           7           8           9     ...       2990       2991  \\\n",
       "0   32.144146  -25.767134  -47.474106   13.589452  ... -19.425692  -4.964512   \n",
       "1 -271.978241 -282.159180 -225.115707 -154.357269  ... -16.648531  -9.363829   \n",
       "2 -325.142181 -290.748108 -188.610550 -186.412460  ...   1.392520   1.403800   \n",
       "3 -236.029419 -215.746506 -259.099365 -281.784088  ...  -0.079755 -22.837614   \n",
       "4 -132.622635 -104.316048 -148.268097  -94.123489  ... -11.891620 -36.099201   \n",
       "\n",
       "        2992       2993       2994       2995       2996       2997  \\\n",
       "0   0.564896 -10.322146  -8.048172 -15.611216 -13.717669  -8.758387   \n",
       "1  -1.733926 -17.236471 -23.098793 -15.690676 -11.650967 -19.760632   \n",
       "2   1.397377   2.297293   1.126647   3.847977   7.825229   6.717238   \n",
       "3 -13.261033  -6.944836  -8.002753  -8.259872 -11.999463  -8.388346   \n",
       "4 -25.709633 -28.622822 -34.927490 -43.111950 -42.848175 -14.123367   \n",
       "\n",
       "        2998       2999  \n",
       "0 -18.238054 -21.685688  \n",
       "1 -32.453533 -33.308979  \n",
       "2 -17.613911 -28.461082  \n",
       "3 -21.328281 -28.987991  \n",
       "4 -27.069042 -25.933346  \n",
       "\n",
       "[5 rows x 3000 columns]"
      ]
     },
     "execution_count": 42,
     "metadata": {},
     "output_type": "execute_result"
    }
   ],
   "source": [
    "X.head()"
   ]
  },
  {
   "cell_type": "code",
   "execution_count": 44,
   "metadata": {},
   "outputs": [
    {
     "data": {
      "text/plain": [
       "array([0.79012346, 0.77160494, 0.70807453, 0.70807453, 0.75625   ])"
      ]
     },
     "execution_count": 44,
     "metadata": {},
     "output_type": "execute_result"
    }
   ],
   "source": [
    "clf = RandomForestClassifier(n_estimators=50)\n",
    "cross_val_score(clf, X, y, cv=5)"
   ]
  },
  {
   "cell_type": "code",
   "execution_count": 106,
   "metadata": {},
   "outputs": [
    {
     "data": {
      "text/plain": [
       "RandomForestClassifier(bootstrap=True, class_weight=None, criterion='gini',\n",
       "                       max_depth=None, max_features='auto', max_leaf_nodes=None,\n",
       "                       min_impurity_decrease=0.0, min_impurity_split=None,\n",
       "                       min_samples_leaf=1, min_samples_split=2,\n",
       "                       min_weight_fraction_leaf=0.0, n_estimators=50,\n",
       "                       n_jobs=None, oob_score=False, random_state=None,\n",
       "                       verbose=0, warm_start=False)"
      ]
     },
     "execution_count": 106,
     "metadata": {},
     "output_type": "execute_result"
    }
   ],
   "source": [
    "import sklearn.model_selection\n",
    "X_train, X_val, y_train, y_val = sklearn.model_selection.train_test_split(X, y)\n",
    "clf.fit(X_train, y_train)"
   ]
  },
  {
   "cell_type": "code",
   "execution_count": 107,
   "metadata": {},
   "outputs": [
    {
     "data": {
      "text/plain": [
       "0.7623762376237624"
      ]
     },
     "execution_count": 107,
     "metadata": {},
     "output_type": "execute_result"
    }
   ],
   "source": [
    "import sklearn.metrics\n",
    "sklearn.metrics.accuracy_score(clf.predict(X_val), y_val)"
   ]
  },
  {
   "cell_type": "code",
   "execution_count": 120,
   "metadata": {},
   "outputs": [],
   "source": [
    "ninglu = get_mfcc_from_filename('./recording_val/ninglu.wav')"
   ]
  },
  {
   "cell_type": "code",
   "execution_count": 121,
   "metadata": {},
   "outputs": [
    {
     "data": {
      "text/plain": [
       "array([1.])"
      ]
     },
     "execution_count": 121,
     "metadata": {},
     "output_type": "execute_result"
    }
   ],
   "source": [
    "clf.predict(pd.DataFrame([ninglu], columns=X.columns))"
   ]
  },
  {
   "cell_type": "code",
   "execution_count": 110,
   "metadata": {},
   "outputs": [],
   "source": [
    "zhangpin = get_mfcc_from_filename('./recording_val/zhangpin.wav')"
   ]
  },
  {
   "cell_type": "code",
   "execution_count": 111,
   "metadata": {},
   "outputs": [
    {
     "data": {
      "text/plain": [
       "array([1.])"
      ]
     },
     "execution_count": 111,
     "metadata": {},
     "output_type": "execute_result"
    }
   ],
   "source": [
    "clf.predict(pd.DataFrame([zhangpin], columns=X.columns))"
   ]
  },
  {
   "cell_type": "code",
   "execution_count": 112,
   "metadata": {},
   "outputs": [],
   "source": [
    "xiaobao = get_mfcc_from_filename('./recording_val/xiaobao.wav')"
   ]
  },
  {
   "cell_type": "code",
   "execution_count": 113,
   "metadata": {},
   "outputs": [
    {
     "data": {
      "text/plain": [
       "array([1.])"
      ]
     },
     "execution_count": 113,
     "metadata": {},
     "output_type": "execute_result"
    }
   ],
   "source": [
    "clf.predict(pd.DataFrame([xiaobao], columns=X.columns))"
   ]
  },
  {
   "cell_type": "code",
   "execution_count": 114,
   "metadata": {},
   "outputs": [],
   "source": [
    "xl = get_mfcc_from_filename('./recording_val/xueling.wav')"
   ]
  },
  {
   "cell_type": "code",
   "execution_count": 115,
   "metadata": {},
   "outputs": [
    {
     "data": {
      "text/plain": [
       "array([1.])"
      ]
     },
     "execution_count": 115,
     "metadata": {},
     "output_type": "execute_result"
    }
   ],
   "source": [
    "clf.predict(pd.DataFrame([xl], columns=X.columns))"
   ]
  },
  {
   "cell_type": "code",
   "execution_count": null,
   "metadata": {},
   "outputs": [],
   "source": []
  }
 ],
 "metadata": {
  "kernelspec": {
   "display_name": "Python 3",
   "language": "python",
   "name": "python3"
  },
  "language_info": {
   "codemirror_mode": {
    "name": "ipython",
    "version": 3
   },
   "file_extension": ".py",
   "mimetype": "text/x-python",
   "name": "python",
   "nbconvert_exporter": "python",
   "pygments_lexer": "ipython3",
   "version": "3.7.3"
  }
 },
 "nbformat": 4,
 "nbformat_minor": 2
}
